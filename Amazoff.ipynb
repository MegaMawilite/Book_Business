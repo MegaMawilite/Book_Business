{
 "cells": [
  {
   "cell_type": "code",
   "execution_count": 47,
   "id": "e9780f51",
   "metadata": {},
   "outputs": [],
   "source": [
    "# let's import some libraries, shall we?\n",
    "\n",
    "import numpy as np\n",
    "import pandas as pd\n",
    "import matplotlib.pyplot as plt"
   ]
  },
  {
   "cell_type": "code",
   "execution_count": 2,
   "id": "f1cb4659",
   "metadata": {},
   "outputs": [],
   "source": [
    "# fetching the csv's into dataframes\n",
    "\n",
    "df_clients = pd.read_csv(\"clients.csv\")\n",
    "df_sales = pd.read_csv(\"ventes.csv\")\n",
    "df_products = pd.read_csv(\"produits.csv\")"
   ]
  },
  {
   "cell_type": "code",
   "execution_count": 13,
   "id": "3e084323",
   "metadata": {},
   "outputs": [],
   "source": [
    "# now it's time to clean them a bit\n",
    "\n",
    "# let's start by removing duplicates\n",
    "df_clients = df_clients.drop_duplicates()\n",
    "df_sales = df_sales.drop_duplicates()\n",
    "df_products = df_products.drop_duplicates()\n",
    "\n",
    "# print(df_clients.isnull().sum()\n",
    "# .sort_values(ascending = False) / len(df_clients))\n",
    "# print(df_sales.isnull().sum()\n",
    "# .sort_values(ascending = False) / len(df_sales))\n",
    "# print(df_products.isnull().sum()\n",
    "# .sort_values(ascending = False) / len(df_products))\n",
    "\n",
    "# here was checked whether data was missing or not\n",
    "# and it confirmed there was no missing data detected"
   ]
  },
  {
   "cell_type": "code",
   "execution_count": 20,
   "id": "98301df2",
   "metadata": {},
   "outputs": [],
   "source": [
    "# while there still are negative prices\n",
    "while int(df_products[['price']].min()) < 0:\n",
    "    incorrect_price = df_products['price'].argmin()\n",
    "    df_products = df_products.drop(\n",
    "        incorrect_price\n",
    "    ).reset_index(drop = True) # drop it"
   ]
  },
  {
   "cell_type": "code",
   "execution_count": 42,
   "id": "b4d62091",
   "metadata": {},
   "outputs": [],
   "source": [
    "# importing pre-done stats functions\n",
    "###\n",
    "# REMINDER: use list() to convert Series-types\n",
    "# into, well, lists to use those functions with\n",
    "\n",
    "\n",
    "def avg(v): # average\n",
    "    sum = 0\n",
    "    for i in (v):\n",
    "        sum += i\n",
    "    return(sum / len(v))\n",
    "\n",
    "\n",
    "def var(v): # variance\n",
    "    diffs = []\n",
    "    for i in (v): # = SUM of each ((v(i) - avg(v))^2)\n",
    "        diffs.append((i - avg(v)) ** 2)\n",
    "    return(avg(diffs)) # = average of above formula\n",
    "\n",
    "\n",
    "def stdev(v): # spread\n",
    "    return(var(v) ** 0.5) # square root = ^0.5\n",
    "\n",
    "\n",
    "def med(v): # median\n",
    "    v.sort() # better sort the list to find which item is in the middle\n",
    "    if len(v) % 2 == 1 :\n",
    "        # if v is of odd length\n",
    "        median = v[int((len(v) - 1) / 2)] # the item in the middle\n",
    "    else :\n",
    "        # if v is of even length\n",
    "        middle = [v[int((len(v) / 2) - 1)], v[int(len(v) / 2)]]\n",
    "        median = avg(middle) # the average of the two middle-most items\n",
    "    return(median)"
   ]
  },
  {
   "cell_type": "code",
   "execution_count": 35,
   "id": "b52ed300",
   "metadata": {},
   "outputs": [],
   "source": [
    "# gini index\n",
    "\n",
    "\n",
    "def gini(v):\n",
    "    v.sort() # getting the list items in order\n",
    "    n = len(v)      # count\n",
    "    q = 2 / n       # coefficient\n",
    "    k = (n + 1) / n # constant\n",
    "    sum = 0\n",
    "    wsum = 0        # weighted sum\n",
    "    for i in range (0, n):\n",
    "        sum += v[i]\n",
    "        wsum += (i + 1) * v[i]\n",
    "    return(q * wsum / sum - k)"
   ]
  },
  {
   "cell_type": "code",
   "execution_count": 49,
   "id": "796cfd7d",
   "metadata": {},
   "outputs": [],
   "source": [
    "# lorenz curve\n",
    "\n",
    "\n",
    "def lorenz(v):\n",
    "    v.sort() # getting the list items in order\n",
    "    sum = 0\n",
    "    for i in (v):\n",
    "        sum += i\n",
    "    csum = 0 # cumulative sum\n",
    "    curve = [0] # the origin 0 value\n",
    "    for i in (v):\n",
    "        csum += i\n",
    "        curve.append(csum / sum)\n",
    "    return(curve)"
   ]
  },
  {
   "cell_type": "code",
   "execution_count": 87,
   "id": "2f93e2b5",
   "metadata": {},
   "outputs": [
    {
     "name": "stdout",
     "output_type": "stream",
     "text": [
      "Central tendency and dispersion indicators of product prices:\n",
      "\n",
      "\tMean     : 21.863597078514857\n",
      "\tVariance : 890.7385487165337\n",
      "\tSt. Dev. : 29.845243318099012\n",
      "\tMedian   : 13.075\n"
     ]
    },
    {
     "data": {
      "text/plain": [
       "<AxesSubplot:>"
      ]
     },
     "execution_count": 87,
     "metadata": {},
     "output_type": "execute_result"
    },
    {
     "data": {
      "image/png": "[encoded data removed]",
      "text/plain": [
       "<Figure size 432x288 with 1 Axes>"
      ]
     },
     "metadata": {
      "needs_background": "light"
     },
     "output_type": "display_data"
    }
   ],
   "source": [
    "print(\"Central tendency and dispersion indicators of product prices:\\n\")\n",
    "print(\"\\tMean     : \" + str(avg(list(df_products['price']))))\n",
    "print(\"\\tVariance : \" + str(var(list(df_products['price']))))\n",
    "print(\"\\tSt. Dev. : \" + str(stdev(list(df_products['price']))))\n",
    "print(\"\\tMedian   : \" + str(med(list(df_products['price']))))\n",
    "\n",
    "df_products[['price']].boxplot()"
   ]
  },
  {
   "cell_type": "code",
   "execution_count": 68,
   "id": "b7c06217",
   "metadata": {},
   "outputs": [
    {
     "name": "stdout",
     "output_type": "stream",
     "text": [
      "Lorenz curve of product prices:\n"
     ]
    },
    {
     "name": "stderr",
     "output_type": "stream",
     "text": [
      "C:\\Users\\utilisateur\\AppData\\Local\\Temp\\ipykernel_6444\\4001052134.py:17: UserWarning: Matplotlib is currently using module://matplotlib_inline.backend_inline, which is a non-GUI backend, so cannot show the figure.\n",
      "  fig.show()\n"
     ]
    },
    {
     "data": {
      "image/png": "[encoded data removed]",
      "text/plain": [
       "<Figure size 432x288 with 1 Axes>"
      ]
     },
     "metadata": {
      "needs_background": "light"
     },
     "output_type": "display_data"
    }
   ],
   "source": [
    "# plotting the lorenz curve of price\n",
    "pricecurve = lorenz(list(df_products['price']))\n",
    "pricegini = gini(list(df_products['price']))\n",
    "textgini = \"Gini Index: \" + str(pricegini)\n",
    "\n",
    "print(\"Lorenz curve of product prices:\")\n",
    "\n",
    "# plot\n",
    "X = np.linspace(0.0, 1.0, len(pricecurve))\n",
    "Y = pricecurve\n",
    "\n",
    "fig, ax = plt.subplots()\n",
    "ax.plot(X, Y)\n",
    "ax.grid()\n",
    "ax.text(0.35, 0.85, textgini, ha = 'center')\n",
    "\n",
    "fig.show()"
   ]
  },
  {
   "cell_type": "code",
   "execution_count": 84,
   "id": "65b74557",
   "metadata": {},
   "outputs": [
    {
     "name": "stdout",
     "output_type": "stream",
     "text": [
      "Clients age distribution:\n"
     ]
    },
    {
     "name": "stderr",
     "output_type": "stream",
     "text": [
      "C:\\Users\\utilisateur\\AppData\\Local\\Temp\\ipykernel_6444\\1568550168.py:58: UserWarning: Matplotlib is currently using module://matplotlib_inline.backend_inline, which is a non-GUI backend, so cannot show the figure.\n",
      "  fig.show()\n"
     ]
    },
    {
     "data": {
      "image/png": "[encoded data removed]",
      "text/plain": [
       "<Figure size 720x288 with 1 Axes>"
      ]
     },
     "metadata": {
      "needs_background": "light"
     },
     "output_type": "display_data"
    }
   ],
   "source": [
    "# barplotting the sales per ages\n",
    "\n",
    "# init\n",
    "ages = []\n",
    "agedist = []\n",
    "\n",
    "# gathering ages of everyone\n",
    "# (I'm going to cheat a bit since all sales happened in 2021-2022)\n",
    "for i in df_clients.index:\n",
    "    ages.append(2022 - int(df_clients.loc[i, \"birth\"]))\n",
    "\n",
    "ages.sort() # the first item is now the youngest age\n",
    "minage = ages[0]\n",
    "ages.reverse() # now it's the oldest age\n",
    "maxage = ages[0]\n",
    "ages.reverse() # to make it usable in the next for loop\n",
    "\n",
    "\n",
    "curi = 0 # item pointer\n",
    "curage = minage # age pointer\n",
    "while curage <= maxage: # repeat the following until reaching max age\n",
    "    count = 0\n",
    "    if ages[curi] < curage:\n",
    "        curi += 1 # advance item pointer if pointed item's age < current age\n",
    "    if ages[curi] == curage:\n",
    "        while ages[curi] == curage: # if pointed item's age is current age,\n",
    "            count += 1 # add one count for as many as there is of this age\n",
    "            curi += 1\n",
    "            if curi >= len(ages): # extra security\n",
    "                break\n",
    "    if curi >= len(ages): #if the list is over\n",
    "        agedist.append(count) # add the count to the list\n",
    "        break\n",
    "    elif ages[curi] > curage: # if the count is over\n",
    "        agedist.append(count) # add the count to the list\n",
    "        curage += 1\n",
    "\n",
    "agedist = np.array(agedist) # to avoid type conflict\n",
    "\n",
    "\n",
    "print(\"Clients age distribution:\")\n",
    "\n",
    "# plot\n",
    "X = np.arange(minage, maxage + 1, 1)\n",
    "Y = agedist[(X - minage)]\n",
    "\n",
    "fig, ax = plt.subplots()\n",
    "\n",
    "ax.bar(X, Y)\n",
    "ax.grid()\n",
    "ax.set_xlabel(\"Age\")\n",
    "ax.set_ylabel(\"Count\")\n",
    "\n",
    "ax.set_xticks(np.arange(int(minage / 5) * 5,\n",
    "                        (int(maxage / 5) + 1) * 5 + 1, 5))\n",
    "fig.set_figwidth(10) # all of this is for readability\n",
    "\n",
    "fig.show()"
   ]
  },
  {
   "cell_type": "code",
   "execution_count": null,
   "id": "ff590cac",
   "metadata": {},
   "outputs": [],
   "source": []
  }
 ],
 "metadata": {
  "kernelspec": {
   "display_name": "Python 3 (ipykernel)",
   "language": "python",
   "name": "python3"
  },
  "language_info": {
   "codemirror_mode": {
    "name": "ipython",
    "version": 3
   },
   "file_extension": ".py",
   "mimetype": "text/x-python",
   "name": "python",
   "nbconvert_exporter": "python",
   "pygments_lexer": "ipython3",
   "version": "3.9.12"
  }
 },
 "nbformat": 4,
 "nbformat_minor": 5
}
