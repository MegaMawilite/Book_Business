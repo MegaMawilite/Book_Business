{
 "cells": [
  {
   "cell_type": "code",
   "execution_count": 1,
   "id": "31ff622c",
   "metadata": {},
   "outputs": [],
   "source": [
    "# let's import some libraries, shall we?\n",
    "\n",
    "import numpy as np\n",
    "import pandas as pd"
   ]
  },
  {
   "cell_type": "code",
   "execution_count": 2,
   "id": "5f998f2e",
   "metadata": {},
   "outputs": [],
   "source": [
    "# fetching the csv's into dataframes\n",
    "\n",
    "df_clients = pd.read_csv(\"clients.csv\")\n",
    "df_sales = pd.read_csv(\"ventes.csv\")\n",
    "df_products = pd.read_csv(\"produits.csv\")"
   ]
  },
  {
   "cell_type": "code",
   "execution_count": 13,
   "id": "34b72448",
   "metadata": {},
   "outputs": [],
   "source": [
    "# now it's time to clean them a bit\n",
    "\n",
    "# let's start by removing duplicates\n",
    "df_clients = df_clients.drop_duplicates()\n",
    "df_sales = df_sales.drop_duplicates()\n",
    "df_products = df_products.drop_duplicates()\n",
    "\n",
    "# print(df_clients.isnull().sum()\n",
    "# .sort_values(ascending = False) / len(df_clients))\n",
    "# print(df_sales.isnull().sum()\n",
    "# .sort_values(ascending = False) / len(df_sales))\n",
    "# print(df_products.isnull().sum()\n",
    "# .sort_values(ascending = False) / len(df_products))\n",
    "\n",
    "# here was checked whether data was missing or not\n",
    "# and it confirmed there was no missing data detected"
   ]
  },
  {
   "cell_type": "code",
   "execution_count": 20,
   "id": "ecc0f2f2",
   "metadata": {},
   "outputs": [],
   "source": [
    "# while there still are negative prices\n",
    "while int(df_products[['price']].min()) < 0:\n",
    "    incorrect_price = df_products['price'].argmin()\n",
    "    df_products = df_products.drop(\n",
    "        incorrect_price\n",
    "    ).reset_index(drop = True) # drop it"
   ]
  },
  {
   "cell_type": "code",
   "execution_count": 42,
   "id": "faea4239",
   "metadata": {},
   "outputs": [],
   "source": [
    "# importing pre-done stats functions\n",
    "###\n",
    "# REMINDER: use list() to convert Series-types\n",
    "# into, well, lists to use those functions with\n",
    "\n",
    "\n",
    "def avg(v): # average\n",
    "    sum = 0\n",
    "    for i in (v):\n",
    "        sum += i\n",
    "    return(sum / len(v))\n",
    "\n",
    "\n",
    "def var(v): # variance\n",
    "    diffs = []\n",
    "    for i in (v): # = SUM of each ((v(i) - avg(v))^2)\n",
    "        diffs.append((i - avg(v)) ** 2)\n",
    "    return(avg(diffs)) # = average of above formula\n",
    "\n",
    "\n",
    "def stdev(v): # spread\n",
    "    return(var(v) ** 0.5) # square root = ^0.5\n",
    "\n",
    "\n",
    "def med(v): # median\n",
    "    v.sort() # better sort the list to find which item is in the middle\n",
    "    if len(v) % 2 == 1 :\n",
    "        # if v is of odd length\n",
    "        median = v[int((len(v) - 1) / 2)] # the item in the middle\n",
    "    else :\n",
    "        # if v is of even length\n",
    "        middle = [v[int((len(v) / 2) - 1)], v[int(len(v) / 2)]]\n",
    "        median = avg(middle) # the average of the two middle-most items\n",
    "    return(median)"
   ]
  },
  {
   "cell_type": "code",
   "execution_count": 35,
   "id": "a658fd0c",
   "metadata": {},
   "outputs": [],
   "source": [
    "# gini index\n",
    "\n",
    "\n",
    "def gini(v):\n",
    "    v.sort() # getting the list items in order\n",
    "    n = len(v)      # count\n",
    "    q = 2 / n       # coefficient\n",
    "    k = (n + 1) / n # constant\n",
    "    sum = 0\n",
    "    wsum = 0        # weighted sum\n",
    "    for i in range (0, n):\n",
    "        sum += v[i]\n",
    "        wsum += (i + 1) * v[i]\n",
    "    return(q * wsum / sum - k)"
   ]
  },
  {
   "cell_type": "code",
   "execution_count": 41,
   "id": "50378105",
   "metadata": {},
   "outputs": [],
   "source": [
    "# lorenz curve\n",
    "\n",
    "\n",
    "def lorenz(v):\n",
    "    sum = 0\n",
    "    for i in (v):\n",
    "        sum += i\n",
    "    csum = 0 # cumulative sum\n",
    "    curve = [0]\n",
    "    for i in (v):\n",
    "        csum += i\n",
    "        curve.append(csum / sum)\n",
    "    return(curve)"
   ]
  }
 ],
 "metadata": {
  "kernelspec": {
   "display_name": "Python 3 (ipykernel)",
   "language": "python",
   "name": "python3"
  },
  "language_info": {
   "codemirror_mode": {
    "name": "ipython",
    "version": 3
   },
   "file_extension": ".py",
   "mimetype": "text/x-python",
   "name": "python",
   "nbconvert_exporter": "python",
   "pygments_lexer": "ipython3",
   "version": "3.9.12"
  }
 },
 "nbformat": 4,
 "nbformat_minor": 5
}
