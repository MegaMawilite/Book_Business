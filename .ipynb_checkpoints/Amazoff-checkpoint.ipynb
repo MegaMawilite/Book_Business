{
 "cells": [
  {
   "cell_type": "code",
   "execution_count": 1,
   "id": "d8857594",
   "metadata": {},
   "outputs": [],
   "source": [
    "# let's import some libraries, shall we?\n",
    "\n",
    "import numpy as np\n",
    "import pandas as pd"
   ]
  },
  {
   "cell_type": "code",
   "execution_count": 2,
   "id": "fb66e565",
   "metadata": {},
   "outputs": [],
   "source": [
    "# fetching the csv's into dataframes\n",
    "\n",
    "df_clients = pd.read_csv(\"clients.csv\")\n",
    "df_sales = pd.read_csv(\"ventes.csv\")\n",
    "df_products = pd.read_csv(\"produits.csv\")"
   ]
  },
  {
   "cell_type": "code",
   "execution_count": 13,
   "id": "ba34aab2",
   "metadata": {},
   "outputs": [],
   "source": [
    "# now it's time to clean them a bit\n",
    "\n",
    "# let's start by removing duplicates\n",
    "df_clients = df_clients.drop_duplicates()\n",
    "df_sales = df_sales.drop_duplicates()\n",
    "df_products = df_products.drop_duplicates()\n",
    "\n",
    "# print(df_clients.isnull().sum()\n",
    "# .sort_values(ascending = False) / len(df_clients))\n",
    "# print(df_sales.isnull().sum()\n",
    "# .sort_values(ascending = False) / len(df_sales))\n",
    "# print(df_products.isnull().sum()\n",
    "# .sort_values(ascending = False) / len(df_products))\n",
    "\n",
    "# here was checked whether data was missing or not\n",
    "# and it confirmed there was no missing data detected"
   ]
  },
  {
   "cell_type": "code",
   "execution_count": 20,
   "id": "111cef46",
   "metadata": {},
   "outputs": [],
   "source": [
    "# while there still are negative prices\n",
    "while int(df_products[['price']].min()) < 0:\n",
    "    incorrect_price = df_products['price'].argmin()\n",
    "    df_products = df_products.drop(\n",
    "        incorrect_price\n",
    "    ).reset_index(drop = True) # drop it"
   ]
  },
  {
   "cell_type": "code",
   "execution_count": 22,
   "id": "87872156",
   "metadata": {},
   "outputs": [],
   "source": [
    "# importing pre-done stats functions\n",
    "\n",
    "def avg(v): # average\n",
    "    sum = 0\n",
    "    for i in (v):\n",
    "        sum += i\n",
    "    return(sum / len(v))\n",
    "\n",
    "def var(v): # variance\n",
    "    diffs = []\n",
    "    for i in (v): # = SUM of each ((v(i) - avg(v))^2)\n",
    "        diffs.append((i - avg(v)) ** 2)\n",
    "    return(avg(diffs)) # = average of above formula\n",
    "\n",
    "def stdev(v): # spread\n",
    "    return(var(v) ** 0.5) # square root = ^0.5\n",
    "\n",
    "def med(v): # median\n",
    "    v.sort() # better sort the list to find which item is in the middle\n",
    "    if len(v) % 2 == 1 :\n",
    "        # if v is of odd length\n",
    "        median = v[int((len(v) - 1) / 2)] # the item in the middle\n",
    "    else :\n",
    "        # if v is of even length\n",
    "        middle = [v[int((len(v) / 2) - 1)], v[int(len(v) / 2)]]\n",
    "        median = avg(middle) # the average of the two middle-most items\n",
    "    return(median)"
   ]
  }
 ],
 "metadata": {
  "kernelspec": {
   "display_name": "Python 3 (ipykernel)",
   "language": "python",
   "name": "python3"
  },
  "language_info": {
   "codemirror_mode": {
    "name": "ipython",
    "version": 3
   },
   "file_extension": ".py",
   "mimetype": "text/x-python",
   "name": "python",
   "nbconvert_exporter": "python",
   "pygments_lexer": "ipython3",
   "version": "3.9.12"
  }
 },
 "nbformat": 4,
 "nbformat_minor": 5
}
